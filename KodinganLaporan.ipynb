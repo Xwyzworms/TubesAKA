{
  "nbformat": 4,
  "nbformat_minor": 0,
  "metadata": {
    "colab": {
      "name": "KodinganLaporan.ipynb",
      "provenance": [],
      "collapsed_sections": []
    },
    "kernelspec": {
      "name": "python3",
      "display_name": "Python 3"
    }
  },
  "cells": [
    {
      "cell_type": "code",
      "metadata": {
        "id": "ZsrUM31ZoSKW",
        "colab": {
          "base_uri": "https://localhost:8080/"
        },
        "outputId": "0665441f-4101-4a7b-a1ed-1264d9919878"
      },
      "source": [
        "import numpy as np\n",
        "import time\n",
        "import matplotlib.pyplot as plt\n",
        "np.random.seed(5)\n",
        "\n",
        "def insertion_Sort(arr):\n",
        "  for i in range(1, len(arr)):\n",
        "    key = arr[i]\n",
        "    before = i - 1\n",
        "    while before >= 0 and key < arr[before]:\n",
        "      arr[before + 1] = arr[before]\n",
        "      before = before - 1\n",
        "    arr[before + 1] = key\n",
        "  return arr\n",
        "\n",
        "\n",
        "def bucket_sort(arr,Slotbucket=10):\n",
        "  '''\n",
        "  I.S : Array telah Terbentuk dengan n elements dan belum ter-urut\n",
        "  F.S : Array telah terurut dengan algoritma BucketSort\n",
        "\n",
        "  Arr : Adalah Array dengan N elements\n",
        "  '''\n",
        "\n",
        "  ''' Inisiasi Jumlah bucket \n",
        "      Inisiasi Variable LokasiBucket\n",
        "      Inisiasi List untuk Bucket yang telah tersorting\n",
        "  '''\n",
        "\n",
        "  buckets = [] \n",
        "  bucketLocation = 0\n",
        "  Sortedbucket = []\n",
        "  # Buat Bucket dengan jumlah Slotbucket\n",
        "  for i in range(0,Slotbucket): \n",
        "    buckets.append([])\n",
        "\n",
        "  # #Masukan Element yang ada pada array ke bucket yang sesuai\n",
        "  for i in range(0, len(arr)): \n",
        "    bucketLocation = int( arr[i]  * Slotbucket)\n",
        "    buckets[bucketLocation].append(arr[i])\n",
        "\n",
        " # Lakukan Sorting pada setiap Bucket\n",
        "  for i in range(0, len(buckets)):\n",
        "    buckets[i] = insertion_Sort(buckets[i])\n",
        "  #Concatenate Bucket menjadi satu \n",
        "  for i in range(Slotbucket):\n",
        "    for j in range(len(buckets[i])):\n",
        "      Sortedbucket.append(buckets[i][j])\n",
        "  \n",
        "  return np.array(Sortedbucket)\n",
        "\n",
        "np.random.seed(5)\n",
        "nums = np.random.random(10)\n",
        "print(f\"Array Sebelum di Sort \\n{nums}\")\n",
        "begin = time.time()\n",
        "print(f\"\\nArray setelah di sort dengan bucket sort\\n\")\n",
        "print(bucket_sort(nums,len(nums)))\n",
        "end = time.time()\n",
        "print(f\"\\nDengan Waktu Eksekusi {end-begin} Second\")"
      ],
      "execution_count": null,
      "outputs": [
        {
          "output_type": "stream",
          "text": [
            "Array Sebelum di Sort \n",
            "[0.22199317 0.87073231 0.20671916 0.91861091 0.48841119 0.61174386\n",
            " 0.76590786 0.51841799 0.2968005  0.18772123]\n",
            "\n",
            "Array setelah di sort dengan bucket sort\n",
            "\n",
            "[0.18772123 0.20671916 0.22199317 0.2968005  0.48841119 0.51841799\n",
            " 0.61174386 0.76590786 0.87073231 0.91861091]\n",
            "\n",
            "Dengan Waktu Eksekusi 0.0006539821624755859 Second\n"
          ],
          "name": "stdout"
        }
      ]
    },
    {
      "cell_type": "code",
      "metadata": {
        "id": "RYBgzb_2qmmA",
        "colab": {
          "base_uri": "https://localhost:8080/"
        },
        "outputId": "a3bce683-8c92-4f44-9561-701e2d6c4186"
      },
      "source": [
        "np.random.seed(5)\n",
        "def bubblesort(arr):\n",
        "  '''\n",
        "  I.S : Array telah terbentuk dengan n elements dan belum terurut\n",
        "  F.S : Array Telah Terurut dengan algoritma bubblesort\n",
        "\n",
        "  arr : Array dengan N Elements\n",
        "  '''\n",
        "\n",
        "  for i in range(0,len(arr)):\n",
        "    for j in range(0,len(arr)-i-1): \n",
        "      if arr[j] > arr[j+1]: \n",
        "        arr[j] , arr[j+1] = arr[j+1] , arr[j] \n",
        "  return arr\n",
        "\n",
        "  \n",
        "np.random.seed(5)\n",
        "nums = np.random.random(10)\n",
        "print(f\"Array Sebelum di Sort \\n{nums}\")\n",
        "begin = time.time()\n",
        "print(f\"\\nArray setelah di sort dengan Bubble sort \\n{bubblesort(nums)}\")\n",
        "end = time.time()\n",
        "print(f\"\\nDengan Waktu Eksekusi {end-begin} second\")"
      ],
      "execution_count": null,
      "outputs": [
        {
          "output_type": "stream",
          "text": [
            "Array Sebelum di Sort \n",
            "[0.22199317 0.87073231 0.20671916 0.91861091 0.48841119 0.61174386\n",
            " 0.76590786 0.51841799 0.2968005  0.18772123]\n",
            "\n",
            "Array setelah di sort dengan Bubble sort \n",
            "[0.18772123 0.20671916 0.22199317 0.2968005  0.48841119 0.51841799\n",
            " 0.61174386 0.76590786 0.87073231 0.91861091]\n",
            "\n",
            "Dengan Waktu Eksekusi 0.0005300045013427734 second\n"
          ],
          "name": "stdout"
        }
      ]
    },
    {
      "cell_type": "code",
      "metadata": {
        "colab": {
          "base_uri": "https://localhost:8080/"
        },
        "id": "gByfdYSN240m",
        "outputId": "99f3275b-98c4-4623-b5d5-cfd33db1f0bc"
      },
      "source": [
        "np.random.seed(5)\r\n",
        "print(np.random.random(10))\r\n",
        "WaktuEksekusiBucket = {10:0 , 100: 0 ,1000:0 , 10000:0, 100000:0, 1000000:0 }\r\n",
        "\r\n",
        "ans=[]\r\n",
        "input_size = [10,100,1000,10000,100000,1000000]\r\n",
        "for i in input_size:\r\n",
        "  rata_rata = []\r\n",
        "  print(f'Saat ini ada pada {i}')\r\n",
        "  for j in range(10):\r\n",
        "    nums = np.random.random(i)\r\n",
        "    begin = time.time()\r\n",
        "    ans.append(bucket_sort(nums,len(nums)))\r\n",
        "    end = time.time()\r\n",
        "    rata_rata.append(end-begin)\r\n",
        "  WaktuEksekusiBucket[i] = np.mean(rata_rata)  \r\n",
        "WaktuEksekusiBucket"
      ],
      "execution_count": null,
      "outputs": [
        {
          "output_type": "stream",
          "text": [
            "[0.22199317 0.87073231 0.20671916 0.91861091 0.48841119 0.61174386\n",
            " 0.76590786 0.51841799 0.2968005  0.18772123]\n",
            "Saat ini ada pada 10\n",
            "Saat ini ada pada 100\n",
            "Saat ini ada pada 1000\n",
            "Saat ini ada pada 10000\n",
            "Saat ini ada pada 100000\n",
            "Saat ini ada pada 1000000\n"
          ],
          "name": "stdout"
        },
        {
          "output_type": "execute_result",
          "data": {
            "text/plain": [
              "{10: 3.886222839355469e-05,\n",
              " 100: 0.0001933574676513672,\n",
              " 1000: 0.0022369861602783204,\n",
              " 10000: 0.026561665534973144,\n",
              " 100000: 0.28802788257598877,\n",
              " 1000000: 3.9453189373016357}"
            ]
          },
          "metadata": {
            "tags": []
          },
          "execution_count": 23
        }
      ]
    },
    {
      "cell_type": "code",
      "metadata": {
        "id": "43RHsZnd5iz2"
      },
      "source": [
        "{10: 3.516674041748047e-05,\r\n",
        " 100: 0.0001966714859008789,\r\n",
        " 1000: 0.0017571687698364259,\r\n",
        " 10000: 0.022615933418273927,\r\n",
        " 100000: 0.2713597774505615}"
      ],
      "execution_count": null,
      "outputs": []
    },
    {
      "cell_type": "code",
      "metadata": {
        "colab": {
          "base_uri": "https://localhost:8080/"
        },
        "id": "y5vT3ivgsde_",
        "outputId": "4b71dad5-787a-4fb3-b29f-1d75f337a5c0"
      },
      "source": [
        "WaktuEksekusiBubble = {10:0 , 100: 0 ,1000:0 , 10000:0, 100000:0 }\n",
        "\n",
        "input_size = [10]\n",
        "np.random.seed(5)\n",
        "ans = []\n",
        "print(np.random.random(10))\n",
        "for i in input_size:\n",
        "  rata_rata = []\n",
        "  print(f'Saat ini ada pada {i}')\n",
        "  for j in range(10):\n",
        "    nums = np.random.random(i)\n",
        "    #print(f\"Array Sebelum di Sort \\n{nums}\")\n",
        "    begin = time.time()\n",
        "    ans.append(bubblesort(nums))\n",
        "    end = time.time()\n",
        "    rata_rata.append(end-begin)\n",
        "  WaktuEksekusiBubble[i] = np.mean(rata_rata)  \n",
        "WaktuEksekusiBubble"
      ],
      "execution_count": null,
      "outputs": [
        {
          "output_type": "stream",
          "text": [
            "[0.22199317 0.87073231 0.20671916 0.91861091 0.48841119 0.61174386\n",
            " 0.76590786 0.51841799 0.2968005  0.18772123]\n",
            "Saat ini ada pada 10\n"
          ],
          "name": "stdout"
        },
        {
          "output_type": "execute_result",
          "data": {
            "text/plain": [
              "{10: 5.273818969726562e-05, 100: 0, 1000: 0, 10000: 0, 100000: 0}"
            ]
          },
          "metadata": {
            "tags": []
          },
          "execution_count": 3
        }
      ]
    },
    {
      "cell_type": "code",
      "metadata": {
        "colab": {
          "base_uri": "https://localhost:8080/"
        },
        "id": "VFLKjFX_svoR",
        "outputId": "59667ef6-6712-433f-c37e-fcb4d3f87d8f"
      },
      "source": [
        "np.random.seed(5)\n",
        "elapsedTimeBubble={}\n",
        "inputsize=[10,100,1000,10000,100000]\n",
        "RunningTime=[]\n",
        "\n",
        "for i in inputsize:\n",
        "  begin = time.time()\n",
        "  print(i)\n",
        "  random = np.random.random(size=i)\n",
        "  bubblesort(random)\n",
        "  end = time.time()\n",
        "  print(end-begin)\n",
        "  elapsedTimeBubble[i] = end-begin \n",
        "  \n",
        "print(elapsedTimeBubble)"
      ],
      "execution_count": null,
      "outputs": [
        {
          "output_type": "stream",
          "text": [
            "10\n",
            "0.0007665157318115234\n",
            "100\n",
            "0.002446889877319336\n",
            "1000\n",
            "0.24569916725158691\n",
            "10000\n",
            "24.04032564163208\n",
            "100000\n",
            "2410.018307209015\n",
            "{10: 0.0007665157318115234, 100: 0.002446889877319336, 1000: 0.24569916725158691, 10000: 24.04032564163208, 100000: 2410.018307209015}\n"
          ],
          "name": "stdout"
        }
      ]
    },
    {
      "cell_type": "code",
      "metadata": {
        "colab": {
          "base_uri": "https://localhost:8080/",
          "height": 492
        },
        "id": "uEJlrAje26er",
        "outputId": "6ffbd16c-3379-499c-a32c-a0fded3e68b6"
      },
      "source": [
        "elapsedTimeBucket = {10: 3.516674041748047e-05,\r\n",
        " 100: 0.0001966714859008789,\r\n",
        " 1000: 0.0017571687698364259,\r\n",
        " 10000: 0.022615933418273927,\r\n",
        " 100000: 0.2713597774505615}\r\n",
        " \r\n",
        "elapsedTimeBubble = {10: 0.0007665157318115234, 100: 0.002446889877319336, 1000: 0.24569916725158691, 10000: 24.04032564163208, 100000: 2410.018307209015}\r\n",
        "inputsize=[10,100,1000,10000,25000]\r\n",
        "f, ax = plt.subplots(1,3,figsize=(15,6))\r\n",
        "print(ax)\r\n",
        "ax[0].plot(inputsize,list(elapsedTimeBucket.values()))\r\n",
        "ax[0].set(title=\"Bucket Sort\",xlabel=\"Inputsize\",ylabel=\"Time in Second\")\r\n",
        "ax[0].legend([\"Bucket Sort\"])\r\n",
        "ax[1].plot(inputsize,list(elapsedTimeBubble.values()))\r\n",
        "ax[1].set(title=\"Bubble Sort\",xlabel=\"Inputsize\",ylabel=\"Time in Second\")\r\n",
        "ax[1].legend([\"Bubble Sort\"])\r\n",
        "ax[2].plot(inputsize,list(elapsedTimeBubble.values()),\r\n",
        "           inputsize,list(elapsedTimeBucket.values()))\r\n",
        "ax[2].set(title=\"Both Sorting\",xlabel=\"Inputsize\",ylabel=\"Time in Second\")\r\n",
        "ax[2].legend([\"Bubble Sort\",\"Bucket Sort\"])\r\n",
        "f.tight_layout()"
      ],
      "execution_count": null,
      "outputs": [
        {
          "output_type": "stream",
          "text": [
            "[<matplotlib.axes._subplots.AxesSubplot object at 0x7fdbf00497b8>\n",
            " <matplotlib.axes._subplots.AxesSubplot object at 0x7fdbefff40b8>\n",
            " <matplotlib.axes._subplots.AxesSubplot object at 0x7fdbf00252e8>]\n"
          ],
          "name": "stdout"
        },
        {
          "output_type": "display_data",
          "data": {
            "image/png": "[encoded data removed]",
            "text/plain": [
              "<Figure size 1080x432 with 3 Axes>"
            ]
          },
          "metadata": {
            "tags": [],
            "needs_background": "light"
          }
        }
      ]
    }
  ]
}