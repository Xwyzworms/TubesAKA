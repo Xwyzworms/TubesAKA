{
  "nbformat": 4,
  "nbformat_minor": 0,
  "metadata": {
    "colab": {
      "name": "FinalCode.ipynb",
      "provenance": [],
      "collapsed_sections": []
    },
    "kernelspec": {
      "name": "python3",
      "display_name": "Python 3"
    }
  },
  "cells": [
    {
      "cell_type": "code",
      "metadata": {
        "id": "ZsrUM31ZoSKW",
        "colab": {
          "base_uri": "https://localhost:8080/"
        },
        "outputId": "0992e4ba-5197-4c98-8239-e4036ee7685a"
      },
      "source": [
        "nums = [60,32,523,31,2,12,12,3145,51,2] \n",
        "def insertion_Sort(arr):\n",
        "  for i in range(1, len(arr)):\n",
        "    key = arr[i]\n",
        "    before = i - 1\n",
        "    while before >= 0 and key < arr[before]:\n",
        "      arr[before + 1] = arr[before]\n",
        "      before = before - 1\n",
        "    arr[before + 1] = key\n",
        "  return arr\n",
        "\n",
        "def bucket_sort(arr,Slotbucket):\n",
        "  '''\n",
        "  I.S : Array telah Terbentuk dengan n elements dan belum ter-urut\n",
        "  F.S : Array telah terurut dengan algoritma BucketSort\n",
        "\n",
        "  Arr : Adalah Array dengan N elements\n",
        "  Slotbucket : Jumlah bucket yang akan digunakan\n",
        "  '''\n",
        "\n",
        "  ''' Inisiasi Jumlah bucket \n",
        "      Inisiasi Variable LokasiBucket\n",
        "      Inisiasi List untuk Bucket yang telah tersorting\n",
        "  '''\n",
        "  buckets = [] \n",
        "  bucketLocation = 0\n",
        "  Sortedbucket = []\n",
        "  for i in range(0,Slotbucket): \n",
        "    buckets.append([])\n",
        "  '''\n",
        "  Loop Seluruh Element array\n",
        "  Tentukan Lokasi element array tersebut pada slot bucket berapa\n",
        "  Jika SlotBucket telah terisi semua kembali isi bucket pertama\n",
        "  '''\n",
        "  for i in range(0, len(arr)): \n",
        "    buckets[bucketLocation].append(arr[i])\n",
        "    bucketLocation =  bucketLocation + 1\n",
        "    if (bucketLocation == Slotbucket):\n",
        "        bucketLocation = 0\n",
        "\n",
        "'''\n",
        "  Loop seluruh bucket\n",
        "  Loop kedalam isi dari bucket\n",
        "  Masukan isi dari setiap bucket pada list SortedBucket\n",
        "'''\n",
        "  for i in range(0, len(buckets)):\n",
        "    for element in buckets[i]:\n",
        "      Sortedbucket.append (element)\n",
        "  \n",
        "'''Lakukan pengurutan pada Sortedbucket'''\n",
        "  return insertion_Sort(Sortedbucket)\n",
        "\n",
        "bucket_sort(nums,2)"
      ],
      "execution_count": 90,
      "outputs": [
        {
          "output_type": "execute_result",
          "data": {
            "text/plain": [
              "[2, 2, 12, 12, 31, 32, 51, 60, 523, 3145]"
            ]
          },
          "metadata": {
            "tags": []
          },
          "execution_count": 90
        }
      ]
    },
    {
      "cell_type": "code",
      "metadata": {
        "id": "RYBgzb_2qmmA",
        "colab": {
          "base_uri": "https://localhost:8080/"
        },
        "outputId": "00570f5b-0b94-4fd2-c397-65c59338c039"
      },
      "source": [
        "lol = [0.22, 0.99, 0.77, 0.22, 0.42, 0.53] \n",
        "temp =0\n",
        "def bubblesort(arr):\n",
        "  '''\n",
        "  I.S : Array telah terbentuk dengan n elements dan belum terurut\n",
        "  F.S : Array Telah Terurut dengan algoritma bubblesort\n",
        "\n",
        "  arr : Array dengan N Elements\n",
        "  '''\n",
        "  for i in range(0,len(arr)):\n",
        "    for j in range(0,len(arr)-i-1): \n",
        "      if arr[j] > arr[j+1]: \n",
        "        arr[j] , arr[j+1] = arr[j+1] , arr[j] \n",
        "  return arr\n",
        "\n",
        "print(\"Sorted Nums {0}\".format(bubblesort(lol)))"
      ],
      "execution_count": 2,
      "outputs": [
        {
          "output_type": "stream",
          "text": [
            "Sorted Nums [0.22, 0.22, 0.42, 0.53, 0.77, 0.99]\n"
          ],
          "name": "stdout"
        }
      ]
    },
    {
      "cell_type": "code",
      "metadata": {
        "colab": {
          "base_uri": "https://localhost:8080/"
        },
        "id": "y5vT3ivgsde_",
        "outputId": "482e3726-de79-4098-f449-1e06d3233a17"
      },
      "source": [
        "\n",
        "np.random.seed(5)\n",
        "elapsedTimeBucket={}\n",
        "inputsize=[10,100,1000,10000,100000]\n",
        "RunningTime=[]\n",
        "\n",
        "\n",
        "for i in inputsize:\n",
        "  begin = time.time()\n",
        "  random = np.random.random(size=i)\n",
        "  bucket_sort(random)\n",
        "  end = time.time()\n",
        "  elapsedTimeBucket[i] = end-begin\n",
        "  \n",
        "print(elapsedTimeBucket)"
      ],
      "execution_count": null,
      "outputs": [
        {
          "output_type": "stream",
          "text": [
            "{10: 8.893013000488281e-05, 100: 0.0001838207244873047, 1000: 0.0018551349639892578, 10000: 0.023746490478515625, 100000: 0.40072083473205566}\n"
          ],
          "name": "stdout"
        }
      ]
    },
    {
      "cell_type": "code",
      "metadata": {
        "id": "hfrM-fS5DW9Y"
      },
      "source": [
        "import matplotlib.pyplot as plt\n",
        "import time\n",
        "import numpy as np\n",
        "\n"
      ],
      "execution_count": null,
      "outputs": []
    },
    {
      "cell_type": "code",
      "metadata": {
        "id": "HItEiWLwDRbR"
      },
      "source": [
        "elapsedTimeBucket = {10: 8.893013000488281e-05, 100: 0.0001838207244873047, 1000: 0.0018551349639892578, 10000: 0.023746490478515625, 100000: 0.40072083473205566}\n",
        "inputsize=[10,100,1000,10000,100000]"
      ],
      "execution_count": null,
      "outputs": []
    },
    {
      "cell_type": "code",
      "metadata": {
        "colab": {
          "base_uri": "https://localhost:8080/"
        },
        "id": "VFLKjFX_svoR",
        "outputId": "401cdaf6-fb05-4b07-832b-d804eebc927e"
      },
      "source": [
        "np.random.seed(5)\n",
        "elapsedTimeBubble={}\n",
        "inputsize=[10,100,1000,10000,100000]\n",
        "RunningTime=[]\n",
        "\n",
        "\n",
        "for i in inputsize:\n",
        "  begin = time.time()\n",
        "  print(i)\n",
        "  random = np.random.random(size=i)\n",
        "  bubblesort(random)\n",
        "  end = time.time()\n",
        "  elapsedTimeBubble[i] = end-begin \n",
        "  \n",
        "print(elapsedTimeBubble)"
      ],
      "execution_count": null,
      "outputs": [
        {
          "output_type": "stream",
          "text": [
            "10\n",
            "100\n",
            "1000\n",
            "10000\n",
            "100000\n",
            "{10: 0.0005006790161132812, 100: 0.002760171890258789, 1000: 0.2798757553100586, 10000: 27.672961950302124, 100000: 2820.208559989929}\n"
          ],
          "name": "stdout"
        }
      ]
    },
    {
      "cell_type": "code",
      "metadata": {
        "colab": {
          "base_uri": "https://localhost:8080/",
          "height": 421
        },
        "id": "BrNTC6hrxEFk",
        "outputId": "775e9bb1-b81d-4ce4-b8c6-08bbbd8de9ce"
      },
      "source": [
        "elapsedTimeBubble = {10: 0.0005006790161132812, 100: 0.002760171890258789, 1000: 0.2798757553100586, 10000: 27.672961950302124, 100000: 2820.208559989929}\n",
        "f, ax = plt.subplots(1,3,figsize=(15,6))\n",
        "ax[0].plot(inputsize,list(elapsedTimeBucket.values()))\n",
        "ax[0].set(title=\"Bucket Sort\",xlabel=\"Inputsize\",ylabel=\"Time in Second\")\n",
        "ax[1].plot(inputsize,list(elapsedTimeBubble.values()))\n",
        "ax[1].set(title=\"Bubble Sort\",xlabel=\"Inputsize\",ylabel=\"Time in Second\")\n",
        "ax[2].plot(inputsize,list(elapsedTimeBubble.values()),\n",
        "           inputsize,list(elapsedTimeBucket.values()))\n",
        "ax[2].set(title=\"Both Sorting\",xlabel=\"Inputsize\",ylabel=\"Time in Second\")\n",
        "ax[2].legend([\"Bubble\",\"Bucket\"])"
      ],
      "execution_count": null,
      "outputs": [
        {
          "output_type": "execute_result",
          "data": {
            "text/plain": [
              "<matplotlib.legend.Legend at 0x7f510f7e2e80>"
            ]
          },
          "metadata": {
            "tags": []
          },
          "execution_count": 7
        },
        {
          "output_type": "display_data",
          "data": {
            "image/png": "[encoded data removed]",
            "text/plain": [
              "<Figure size 1080x432 with 3 Axes>"
            ]
          },
          "metadata": {
            "tags": [],
            "needs_background": "light"
          }
        }
      ]
    },
    {
      "cell_type": "code",
      "metadata": {
        "id": "IaIE1nxywsVc"
      },
      "source": [
        ""
      ],
      "execution_count": null,
      "outputs": []
    }
  ]
}